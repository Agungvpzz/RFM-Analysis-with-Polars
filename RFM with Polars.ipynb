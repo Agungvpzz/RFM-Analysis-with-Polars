{
 "cells": [
  {
   "cell_type": "code",
   "execution_count": 1,
   "id": "28dfbf76",
   "metadata": {
    "ExecuteTime": {
     "end_time": "2024-05-21T23:53:56.125943Z",
     "start_time": "2024-05-21T23:53:29.483393Z"
    },
    "deletable": false,
    "editable": false
   },
   "outputs": [],
   "source": [
    "import pandas as pd\n",
    "\n",
    "import polars as pl\n",
    "import polars.selectors as cs"
   ]
  },
  {
   "cell_type": "code",
   "execution_count": 2,
   "id": "1f5ee0c5",
   "metadata": {
    "ExecuteTime": {
     "end_time": "2024-05-21T23:54:23.557880Z",
     "start_time": "2024-05-21T23:53:56.195110Z"
    },
    "deletable": false,
    "editable": false
   },
   "outputs": [
    {
     "data": {
      "text/html": [
       "        <script type=\"text/javascript\">\n",
       "        window.PlotlyConfig = {MathJaxConfig: 'local'};\n",
       "        if (window.MathJax && window.MathJax.Hub && window.MathJax.Hub.Config) {window.MathJax.Hub.Config({SVG: {font: \"STIX-Web\"}});}\n",
       "        if (typeof require !== 'undefined') {\n",
       "        require.undef(\"plotly\");\n",
       "        requirejs.config({\n",
       "            paths: {\n",
       "                'plotly': ['https://cdn.plot.ly/plotly-2.26.0.min']\n",
       "            }\n",
       "        });\n",
       "        require(['plotly'], function(Plotly) {\n",
       "            window._Plotly = Plotly;\n",
       "        });\n",
       "        }\n",
       "        </script>\n",
       "        "
      ]
     },
     "metadata": {},
     "output_type": "display_data"
    },
    {
     "data": {
      "text/html": [
       "        <script type=\"text/javascript\">\n",
       "        window.PlotlyConfig = {MathJaxConfig: 'local'};\n",
       "        if (window.MathJax && window.MathJax.Hub && window.MathJax.Hub.Config) {window.MathJax.Hub.Config({SVG: {font: \"STIX-Web\"}});}\n",
       "        if (typeof require !== 'undefined') {\n",
       "        require.undef(\"plotly\");\n",
       "        requirejs.config({\n",
       "            paths: {\n",
       "                'plotly': ['https://cdn.plot.ly/plotly-2.26.0.min']\n",
       "            }\n",
       "        });\n",
       "        require(['plotly'], function(Plotly) {\n",
       "            window._Plotly = Plotly;\n",
       "        });\n",
       "        }\n",
       "        </script>\n",
       "        "
      ]
     },
     "metadata": {},
     "output_type": "display_data"
    },
    {
     "data": {
      "text/html": [
       "        <script type=\"text/javascript\">\n",
       "        window.PlotlyConfig = {MathJaxConfig: 'local'};\n",
       "        if (window.MathJax && window.MathJax.Hub && window.MathJax.Hub.Config) {window.MathJax.Hub.Config({SVG: {font: \"STIX-Web\"}});}\n",
       "        if (typeof require !== 'undefined') {\n",
       "        require.undef(\"plotly\");\n",
       "        requirejs.config({\n",
       "            paths: {\n",
       "                'plotly': ['https://cdn.plot.ly/plotly-2.26.0.min']\n",
       "            }\n",
       "        });\n",
       "        require(['plotly'], function(Plotly) {\n",
       "            window._Plotly = Plotly;\n",
       "        });\n",
       "        }\n",
       "        </script>\n",
       "        "
      ]
     },
     "metadata": {},
     "output_type": "display_data"
    }
   ],
   "source": [
    "import plotly.express as px\n",
    "import plotly.graph_objects as go\n",
    "import plotly.offline as py\n",
    "\n",
    "#importing plotly and cufflinks in offline mode\n",
    "import cufflinks as cf\n",
    "import plotly.offline\n",
    "\n",
    "cf.go_offline()\n",
    "cf.set_config_file(offline=True, world_readable=True)"
   ]
  },
  {
   "cell_type": "code",
   "execution_count": 3,
   "id": "7fb3a59b",
   "metadata": {
    "ExecuteTime": {
     "end_time": "2024-05-21T23:54:23.855199Z",
     "start_time": "2024-05-21T23:54:23.624443Z"
    },
    "deletable": false,
    "editable": false
   },
   "outputs": [],
   "source": [
    "from plots.Treemap import TreeMapRFM\n",
    "from plots.Violin import violin_plot\n",
    "from plots.Boxplot import box_plot"
   ]
  },
  {
   "cell_type": "code",
   "execution_count": null,
   "id": "912cf6c0",
   "metadata": {
    "ExecuteTime": {
     "end_time": "2024-05-08T13:40:35.520090Z",
     "start_time": "2024-05-08T13:40:35.503135Z"
    },
    "deletable": false,
    "editable": false
   },
   "outputs": [],
   "source": [
    "import plotly.io as pio\n",
    "pio.renderers.default = \"notebook_connected\""
   ]
  },
  {
   "cell_type": "code",
   "execution_count": null,
   "id": "2351e4b0",
   "metadata": {
    "ExecuteTime": {
     "end_time": "2024-05-21T07:40:58.503339Z",
     "start_time": "2024-05-21T07:40:58.491667Z"
    },
    "deletable": false,
    "editable": false
   },
   "outputs": [],
   "source": [
    "COL_CUSTOMER_ID = 'Customer ID'\n",
    "COL_ORDER_DATE = 'InvoiceDate'\n",
    "COL_ORDER_ID = 'Invoice'\n",
    "COL_VALUE = 'Sales'\n",
    "COL_QUANTITY = 'Quantity'"
   ]
  },
  {
   "cell_type": "markdown",
   "id": "bfde2e39",
   "metadata": {
    "deletable": false,
    "editable": false,
    "run_control": {
     "frozen": true
    }
   },
   "source": [
    "https://www.kaggle.com/datasets/mashlyn/online-retail-ii-uci/"
   ]
  },
  {
   "cell_type": "code",
   "execution_count": null,
   "id": "4d4ed49f",
   "metadata": {
    "ExecuteTime": {
     "end_time": "2024-05-21T07:41:35.294575Z",
     "start_time": "2024-05-21T07:41:34.752897Z"
    },
    "code_folding": [],
    "deletable": false,
    "editable": false
   },
   "outputs": [],
   "source": [
    "df = pl.scan_csv(\n",
    "    \"F:/Data/datas/online_retail_II.csv\", \n",
    "    dtypes = {'Customer ID': str, 'Invoice': str, 'InvoiceDate': pl.Datetime}\n",
    ")"
   ]
  },
  {
   "cell_type": "code",
   "execution_count": null,
   "id": "d83d5c23",
   "metadata": {
    "ExecuteTime": {
     "end_time": "2024-05-21T07:41:43.951200Z",
     "start_time": "2024-05-21T07:41:36.925387Z"
    },
    "deletable": false,
    "editable": false
   },
   "outputs": [],
   "source": [
    "df.describe()"
   ]
  },
  {
   "cell_type": "markdown",
   "id": "66ed959a",
   "metadata": {
    "ExecuteTime": {
     "end_time": "2024-05-07T04:25:11.766060Z",
     "start_time": "2024-05-07T04:25:11.754128Z"
    },
    "deletable": false,
    "editable": false,
    "run_control": {
     "frozen": true
    }
   },
   "source": [
    "### Data Cleaning and Preparation"
   ]
  },
  {
   "cell_type": "markdown",
   "id": "ff4f3a5e",
   "metadata": {
    "ExecuteTime": {
     "end_time": "2024-05-07T04:24:51.777862Z",
     "start_time": "2024-05-07T04:24:51.770880Z"
    },
    "deletable": false,
    "editable": false,
    "run_control": {
     "frozen": true
    }
   },
   "source": [
    "#### Check and Drop Null Values"
   ]
  },
  {
   "cell_type": "code",
   "execution_count": null,
   "id": "0f97459e",
   "metadata": {
    "ExecuteTime": {
     "end_time": "2024-05-21T07:49:18.378537Z",
     "start_time": "2024-05-21T07:49:17.801989Z"
    },
    "deletable": false,
    "editable": false
   },
   "outputs": [],
   "source": [
    "df.describe()[1]"
   ]
  },
  {
   "cell_type": "code",
   "execution_count": null,
   "id": "d45d994f",
   "metadata": {
    "ExecuteTime": {
     "end_time": "2024-05-21T07:49:19.509777Z",
     "start_time": "2024-05-21T07:49:19.458269Z"
    },
    "deletable": false,
    "editable": false
   },
   "outputs": [],
   "source": [
    "df = df.drop_nulls()"
   ]
  },
  {
   "cell_type": "markdown",
   "id": "0ce803ce",
   "metadata": {
    "deletable": false,
    "editable": false,
    "run_control": {
     "frozen": true
    }
   },
   "source": [
    "####  Ignore duplicate rows"
   ]
  },
  {
   "cell_type": "markdown",
   "id": "0f026e84",
   "metadata": {},
   "source": [
    "There are two possible reasons for duplicate rows.\n",
    "\n",
    "There are two possible reasons for duplicate rows. \n",
    "1. The cashier might have scanned each product individually instead of scanning once and entering the quantity, resulting in multiple entries for each product on the invoice. \n",
    "2. The cashier might have accidentally scanned the same product twice. \n",
    "\n",
    "**Decision process**: The first scenario is more common, so we assume that the duplicate rows are not mistakes.<br>\n",
    "**Action**: We ignore duplicate rows"
   ]
  },
  {
   "cell_type": "markdown",
   "id": "d7c01ff3",
   "metadata": {
    "ExecuteTime": {
     "end_time": "2024-05-07T04:26:09.526063Z",
     "start_time": "2024-05-07T04:26:09.512100Z"
    },
    "deletable": false,
    "editable": false,
    "run_control": {
     "frozen": true
    }
   },
   "source": [
    "#### Get only non-zero price value"
   ]
  },
  {
   "cell_type": "code",
   "execution_count": null,
   "id": "b71c33a2",
   "metadata": {
    "ExecuteTime": {
     "end_time": "2024-05-21T07:49:30.327449Z",
     "start_time": "2024-05-21T07:49:30.306336Z"
    },
    "deletable": false,
    "editable": false
   },
   "outputs": [],
   "source": [
    "df = df.filter(pl.col('Price') != 0)"
   ]
  },
  {
   "cell_type": "markdown",
   "id": "2c20bdf6",
   "metadata": {
    "ExecuteTime": {
     "end_time": "2024-05-19T03:29:04.232296Z",
     "start_time": "2024-05-19T03:29:04.226312Z"
    },
    "deletable": false,
    "editable": false,
    "run_control": {
     "frozen": true
    }
   },
   "source": [
    "#### Drop rows that its StockCode column contains 'TEST' values"
   ]
  },
  {
   "cell_type": "code",
   "execution_count": null,
   "id": "aaad3660",
   "metadata": {
    "ExecuteTime": {
     "end_time": "2024-05-21T07:50:51.936176Z",
     "start_time": "2024-05-21T07:50:51.926237Z"
    },
    "deletable": false,
    "editable": false
   },
   "outputs": [],
   "source": [
    "df = df.filter(~pl.col('StockCode').str.contains('TEST'))"
   ]
  },
  {
   "cell_type": "markdown",
   "id": "5d9f7ec0",
   "metadata": {
    "ExecuteTime": {
     "end_time": "2024-05-07T04:27:37.626552Z",
     "start_time": "2024-05-07T04:27:37.610019Z"
    },
    "deletable": false,
    "editable": false,
    "run_control": {
     "frozen": true
    }
   },
   "source": [
    "#### Drop the canceled invoice"
   ]
  },
  {
   "cell_type": "code",
   "execution_count": null,
   "id": "5fe61213",
   "metadata": {
    "ExecuteTime": {
     "end_time": "2024-05-21T07:50:59.948660Z",
     "start_time": "2024-05-21T07:50:59.937692Z"
    },
    "deletable": false,
    "editable": false
   },
   "outputs": [],
   "source": [
    "df = df.filter(~pl.col('Invoice').str.starts_with('C'))"
   ]
  },
  {
   "cell_type": "markdown",
   "id": "e0eb20f6",
   "metadata": {
    "ExecuteTime": {
     "end_time": "2024-05-07T04:33:13.339354Z",
     "start_time": "2024-05-07T04:33:13.329343Z"
    }
   },
   "source": [
    "#### Get Price Feature"
   ]
  },
  {
   "cell_type": "code",
   "execution_count": null,
   "id": "b7677c99",
   "metadata": {
    "ExecuteTime": {
     "end_time": "2024-05-21T07:51:08.288455Z",
     "start_time": "2024-05-21T07:51:08.229464Z"
    },
    "deletable": false,
    "editable": false
   },
   "outputs": [],
   "source": [
    "df = df.with_columns(Sales = pl.col('Price') * pl.col('Quantity'))"
   ]
  },
  {
   "cell_type": "markdown",
   "id": "44fe17f1",
   "metadata": {
    "ExecuteTime": {
     "end_time": "2024-05-07T04:33:17.986071Z",
     "start_time": "2024-05-07T04:33:17.973105Z"
    },
    "deletable": false,
    "editable": false,
    "run_control": {
     "frozen": true
    }
   },
   "source": [
    "#### Drop Unnecessary features"
   ]
  },
  {
   "cell_type": "code",
   "execution_count": null,
   "id": "a0648894",
   "metadata": {
    "ExecuteTime": {
     "end_time": "2024-05-21T07:51:22.357471Z",
     "start_time": "2024-05-21T07:51:22.289377Z"
    },
    "deletable": false,
    "editable": false
   },
   "outputs": [],
   "source": [
    "df = df.drop(['StockCode', 'Description', 'Price'])"
   ]
  },
  {
   "cell_type": "code",
   "execution_count": null,
   "id": "dc53cc09",
   "metadata": {
    "ExecuteTime": {
     "end_time": "2024-05-21T07:51:23.756712Z",
     "start_time": "2024-05-21T07:51:22.975252Z"
    },
    "deletable": false,
    "editable": false
   },
   "outputs": [],
   "source": [
    "df.describe()"
   ]
  },
  {
   "cell_type": "markdown",
   "id": "2249b4c4",
   "metadata": {
    "ExecuteTime": {
     "end_time": "2024-05-07T04:29:01.618311Z",
     "start_time": "2024-05-07T04:29:01.599364Z"
    },
    "deletable": false,
    "editable": false,
    "run_control": {
     "frozen": true
    }
   },
   "source": [
    "### Get RFM features"
   ]
  },
  {
   "cell_type": "code",
   "execution_count": null,
   "id": "ed89eeef",
   "metadata": {
    "ExecuteTime": {
     "end_time": "2024-05-21T08:10:15.112125Z",
     "start_time": "2024-05-21T08:10:14.777297Z"
    },
    "deletable": false,
    "editable": false
   },
   "outputs": [],
   "source": [
    "df_rfm = df.group_by(COL_CUSTOMER_ID).agg(\n",
    "    recency = pl.col(COL_ORDER_DATE).max(),\n",
    "    frequency = pl.col(COL_ORDER_ID).n_unique(),\n",
    "    monetary = pl.col(COL_VALUE).sum()\n",
    ")\n",
    "latest_date = df.select(pl.col(COL_ORDER_DATE).max()).collect().item()\n",
    "df_rfm = df_rfm.with_columns(recency = (latest_date-pl.col('recency')).dt.total_days())"
   ]
  },
  {
   "cell_type": "code",
   "execution_count": null,
   "id": "e215f034",
   "metadata": {
    "ExecuteTime": {
     "end_time": "2024-05-21T08:02:50.974006Z",
     "start_time": "2024-05-21T08:02:50.590828Z"
    },
    "deletable": false,
    "editable": false
   },
   "outputs": [],
   "source": [
    "df_rfm.describe()"
   ]
  },
  {
   "cell_type": "markdown",
   "id": "eebfc431",
   "metadata": {
    "ExecuteTime": {
     "end_time": "2024-05-07T04:36:58.137991Z",
     "start_time": "2024-05-07T04:36:58.132005Z"
    },
    "deletable": false,
    "editable": false,
    "run_control": {
     "frozen": true
    }
   },
   "source": [
    "#### Divide RFM values into 5 ranked groups"
   ]
  },
  {
   "cell_type": "code",
   "execution_count": null,
   "id": "43f91269",
   "metadata": {
    "ExecuteTime": {
     "end_time": "2024-05-21T08:11:25.890817Z",
     "start_time": "2024-05-21T08:11:25.412311Z"
    },
    "deletable": false,
    "editable": false
   },
   "outputs": [],
   "source": [
    "max_f = df_rfm.select(pl.col('frequency').max()).collect().item()\n",
    "\n",
    "# for frequency:\n",
    "# (0-1]: {1}, (1-2]: {2}, (2-5]: {3, 4, 5}, (5-10]: {6, 7, 8, 9, 10}, (10-max_f]: {11, ...}\n",
    "df_rfm = df_rfm.with_columns(\n",
    "    r = pl.col('recency').qcut(quantiles=5, labels=['5', '4', '3', '2', '1']).cast(pl.UInt8),\n",
    "    f = pl.col('frequency').cut(breaks=[1, 2, 5, 10], labels=['1', '2', '3', '4', '5']).cast(pl.UInt8),\n",
    "    m = pl.col('monetary').qcut(quantiles=5, labels=['1', '2', '3', '4', '5']).cast(pl.UInt8)\n",
    ")\n"
   ]
  },
  {
   "cell_type": "code",
   "execution_count": null,
   "id": "520f58a1",
   "metadata": {
    "ExecuteTime": {
     "end_time": "2024-05-21T10:31:00.510021Z",
     "start_time": "2024-05-21T10:31:00.242926Z"
    },
    "deletable": false,
    "editable": false
   },
   "outputs": [],
   "source": [
    "df1 = pl.DataFrame({\"foo\": [-2, -1, 0, 1, 2]})\n",
    "df1.with_columns(pl.col(\"foo\").cut([-1, 1], labels=[\"a\", \"b\", \"c\"]).alias(\"cut\"))"
   ]
  },
  {
   "cell_type": "code",
   "execution_count": null,
   "id": "0e6405bd",
   "metadata": {
    "ExecuteTime": {
     "end_time": "2024-05-08T13:26:38.322898Z",
     "start_time": "2024-05-08T13:26:35.904122Z"
    },
    "deletable": false,
    "editable": false,
    "run_control": {
     "frozen": true
    }
   },
   "outputs": [],
   "source": [
    "# Polars notes that its qcut and cut methods are unstable, so this is the alternative\n",
    "df_rfm = df_rfm.collect().to_pandas()\n",
    "df_rfm['r'] = pd.qcut(df_rfm['recency'], q=5, labels=[5, 4, 3, 2, 1]).astype(int)\n",
    "df_rfm['f'] = pd.cut(df_rfm['frequency'], [0, 1, 2, 5, 10, df_rfm['frequency'].max()], labels=[1, 2, 3, 4, 5]).astype(int)\n",
    "df_rfm['m'] = pd.qcut(df_rfm['monetary'], q=5, labels=[1, 2, 3, 4, 5]).astype(int)\n",
    "df_rfm = pl.from_pandas(df_rfm).lazy()"
   ]
  },
  {
   "cell_type": "code",
   "execution_count": null,
   "id": "7b7c84a7",
   "metadata": {
    "ExecuteTime": {
     "end_time": "2024-05-21T10:28:39.608090Z",
     "start_time": "2024-05-21T10:28:34.077028Z"
    },
    "deletable": false,
    "editable": false
   },
   "outputs": [],
   "source": [
    "df_rfm.select(pl.col('r', 'f', 'm').value_counts(sort=True)).collect()"
   ]
  },
  {
   "cell_type": "markdown",
   "id": "963b2fb6",
   "metadata": {
    "ExecuteTime": {
     "end_time": "2024-05-07T07:10:51.273864Z",
     "start_time": "2024-05-07T07:10:51.266881Z"
    },
    "deletable": false,
    "editable": false,
    "run_control": {
     "frozen": true
    }
   },
   "source": [
    "### RFM Segment"
   ]
  },
  {
   "cell_type": "markdown",
   "id": "bb0a59ad",
   "metadata": {
    "ExecuteTime": {
     "end_time": "2024-05-07T07:17:08.632639Z",
     "start_time": "2024-05-07T07:17:08.617678Z"
    },
    "deletable": false,
    "editable": false,
    "run_control": {
     "frozen": true
    }
   },
   "source": [
    "#### RFM Score"
   ]
  },
  {
   "cell_type": "code",
   "execution_count": null,
   "id": "56f98c4b",
   "metadata": {
    "ExecuteTime": {
     "end_time": "2024-05-08T13:28:27.119565Z",
     "start_time": "2024-05-08T13:28:27.105603Z"
    },
    "code_folding": [],
    "deletable": false,
    "editable": false
   },
   "outputs": [],
   "source": [
    "@pl.api.register_expr_namespace(\"RFM\")\n",
    "class RFM_score:\n",
    "    def __init__(self, expr: pl.Expr):\n",
    "        self._expr = expr\n",
    "    \n",
    "    def segment(self, regex_segments: dict) -> pl.Expr:\n",
    "        for regex, segment in regex_segments.items():\n",
    "            self._expr = self._expr.str.replace(regex, segment)\n",
    "            \n",
    "        return self._expr"
   ]
  },
  {
   "cell_type": "code",
   "execution_count": null,
   "id": "1bfd1ff8",
   "metadata": {
    "ExecuteTime": {
     "end_time": "2024-05-08T13:28:29.175771Z",
     "start_time": "2024-05-08T13:28:29.144855Z"
    },
    "deletable": false,
    "editable": false
   },
   "outputs": [],
   "source": [
    "df_rfm = df_rfm.with_columns(\n",
    "    rfm_score = (\n",
    "        pl.col('r').cast(pl.String) + \n",
    "        ((pl.col('f') + pl.col('m')) / pl.lit(2)).round().cast(pl.Int8).cast(pl.String) \n",
    "    )\n",
    ")"
   ]
  },
  {
   "cell_type": "code",
   "execution_count": null,
   "id": "4dc46510",
   "metadata": {
    "ExecuteTime": {
     "end_time": "2024-05-08T13:28:32.419458Z",
     "start_time": "2024-05-08T13:28:32.401507Z"
    },
    "deletable": false,
    "editable": false
   },
   "outputs": [],
   "source": [
    "seg_map = {\n",
    "    r\"[1-2][1-2]\": \"Hibernating\",\n",
    "    r\"[1-2][3-4]\": \"At-Risk\",\n",
    "    r\"[1-2]5\": \"Cannot Lose Them\",\n",
    "    r\"3[1-2]\": \"About To Sleep\",\n",
    "    r\"33\": \"Need Attention\",\n",
    "    r\"[3-4][4-5]\": \"Loyal Customers\",\n",
    "    r\"41\": \"Promising\",\n",
    "    r\"51\": \"New Customers\",\n",
    "    r\"[4-5][2-3]\": \"Potential Loyalists\",\n",
    "    r\"5[4-5]\": \"Champions\",\n",
    "}"
   ]
  },
  {
   "cell_type": "code",
   "execution_count": null,
   "id": "5fe83a1e",
   "metadata": {
    "ExecuteTime": {
     "end_time": "2024-05-08T13:28:32.886227Z",
     "start_time": "2024-05-08T13:28:32.855763Z"
    },
    "deletable": false,
    "editable": false
   },
   "outputs": [],
   "source": [
    "df_rfm = df_rfm.with_columns(segment = pl.col('rfm_score').RFM.segment(seg_map))"
   ]
  },
  {
   "cell_type": "code",
   "execution_count": null,
   "id": "aa623a14",
   "metadata": {
    "ExecuteTime": {
     "end_time": "2024-05-08T13:28:34.064178Z",
     "start_time": "2024-05-08T13:28:33.538930Z"
    },
    "deletable": false,
    "editable": false
   },
   "outputs": [],
   "source": [
    "df_rfm.select(pl.col('segment').value_counts(sort=True)).collect()"
   ]
  },
  {
   "cell_type": "markdown",
   "id": "1650d9a0",
   "metadata": {
    "ExecuteTime": {
     "end_time": "2024-05-07T07:17:28.540850Z",
     "start_time": "2024-05-07T07:17:28.520901Z"
    },
    "deletable": false,
    "editable": false,
    "run_control": {
     "frozen": true
    }
   },
   "source": [
    "#### Custom RFM Score"
   ]
  },
  {
   "cell_type": "code",
   "execution_count": null,
   "id": "40e82fb3",
   "metadata": {
    "ExecuteTime": {
     "end_time": "2024-05-06T20:04:14.199514Z",
     "start_time": "2024-05-06T20:04:14.173584Z"
    },
    "code_folding": [],
    "deletable": false,
    "editable": false
   },
   "outputs": [],
   "source": [
    "@pl.api.register_lazyframe_namespace(\"RFM\")\n",
    "class RFM_custom_score:\n",
    "    def __init__(self, ldf: pl.LazyFrame):\n",
    "        self._ldf = ldf\n",
    "    \n",
    "    def _segment(self, r:tuple, f:tuple, m:tuple, label) -> pl.LazyFrame:\n",
    "        return self._ldf.with_columns(\n",
    "            pl.when(\n",
    "                pl.col(self.col_r).is_between(r[0], r[1], 'both') & \n",
    "                pl.col(self.col_f).is_between(f[0], f[1], 'both') &\n",
    "                pl.col(self.col_m).is_between(m[0], m[1], 'both')\n",
    "            )\n",
    "            .then(pl.lit(label))\n",
    "            .otherwise(pl.col(self.col_name))\n",
    "            .alias(self.col_name)\n",
    "        )\n",
    "    \n",
    "    def segment(self, conditions: dict, col_r, col_f, col_m, col_name='segment'):\n",
    "        \"\"\"\n",
    "        conditions: {'label': [(r_min, r_max), ( f_min, f_max), ( m_min, m_max)]}\n",
    "        \"\"\"\n",
    "        self.col_r = col_r\n",
    "        self.col_f = col_f\n",
    "        self.col_m = col_m\n",
    "        self.col_name = col_name\n",
    "        \n",
    "        self._ldf = self._ldf.with_columns(pl.lit(None).alias(col_name))\n",
    "        \n",
    "        for label, values in conditions.items():\n",
    "            r, f, m = values[0], values[1], values[2]\n",
    "            self._ldf = self._segment(r, f, m, label)\n",
    "            \n",
    "        return self._ldf"
   ]
  },
  {
   "cell_type": "code",
   "execution_count": null,
   "id": "ba87c799",
   "metadata": {
    "ExecuteTime": {
     "end_time": "2024-05-06T20:04:16.617425Z",
     "start_time": "2024-05-06T20:04:16.594085Z"
    },
    "code_folding": [],
    "deletable": false,
    "editable": false
   },
   "outputs": [],
   "source": [
    "segments = {\n",
    "    'inactive': [(1, 1), (1, 5), (1, 5)],\n",
    "    'at risk': [(2, 3), (1, 5), (1, 5)],\n",
    "    'need high attention': [(2, 3), (2, 5), (2, 5)],\n",
    "    'moderate': [(3, 5), (1, 5), (1, 5)],\n",
    "    'potential loyalist': [(3, 5), (2, 5), (1, 3)],\n",
    "    'potential high value': [(3, 5), (1, 3), (2, 5)],\n",
    "    'new customers': [(5, 5), (1, 1), (1, 5)],\n",
    "    'loyalist': [(4, 5), (4, 5), (2, 5)],\n",
    "    'high value': [(4, 5), (2, 5), (4, 5)],    \n",
    "    'champions': [(5, 5), (4, 5), (4, 5)]\n",
    "}"
   ]
  },
  {
   "cell_type": "code",
   "execution_count": null,
   "id": "478e88c1",
   "metadata": {
    "ExecuteTime": {
     "end_time": "2024-05-06T20:04:17.559472Z",
     "start_time": "2024-05-06T20:04:17.503054Z"
    },
    "deletable": false,
    "editable": false
   },
   "outputs": [],
   "source": [
    "df_rfm = df_rfm.RFM.segment(segments, 'r', 'f', 'm')"
   ]
  },
  {
   "cell_type": "code",
   "execution_count": null,
   "id": "ad14c22e",
   "metadata": {
    "ExecuteTime": {
     "end_time": "2024-05-06T20:04:18.910100Z",
     "start_time": "2024-05-06T20:04:18.640481Z"
    },
    "deletable": false,
    "editable": false
   },
   "outputs": [],
   "source": [
    "df_rfm.select(pl.col('segment').value_counts(sort=True)).collect()"
   ]
  },
  {
   "cell_type": "markdown",
   "id": "01c70aa3",
   "metadata": {
    "ExecuteTime": {
     "end_time": "2024-05-07T07:38:29.362634Z",
     "start_time": "2024-05-07T07:38:29.356650Z"
    },
    "deletable": false,
    "editable": false,
    "run_control": {
     "frozen": true
    }
   },
   "source": [
    "### Data Analysis"
   ]
  },
  {
   "cell_type": "markdown",
   "id": "f0266153",
   "metadata": {
    "ExecuteTime": {
     "end_time": "2024-05-07T07:38:40.411552Z",
     "start_time": "2024-05-07T07:38:40.401396Z"
    },
    "deletable": false,
    "editable": false,
    "run_control": {
     "frozen": true
    }
   },
   "source": [
    "#### TreeMap Summary Segment Report"
   ]
  },
  {
   "cell_type": "code",
   "execution_count": null,
   "id": "e8172468",
   "metadata": {
    "ExecuteTime": {
     "end_time": "2024-05-08T13:28:36.751962Z",
     "start_time": "2024-05-08T13:28:36.707065Z"
    },
    "code_folding": [
     0
    ],
    "deletable": false,
    "editable": false
   },
   "outputs": [],
   "source": [
    "class TreeMapRFM:\n",
    "    @staticmethod\n",
    "    def get_group_segment(rfm_segment):\n",
    "        rfm_segment_grouped = rfm_segment.groupby(\"segment\").agg(\n",
    "            size=(\"monetary\", \"size\"),\n",
    "            M_sum=(\"monetary\", \"sum\"),\n",
    "            M_mean=(\"monetary\", \"mean\"),\n",
    "            M_max=(\"monetary\", \"max\"),\n",
    "            M_min=(\"monetary\", \"min\"),\n",
    "            F_sum=(\"frequency\", \"sum\"),\n",
    "            F_mean=(\"frequency\", \"mean\"),\n",
    "            F_max=(\"frequency\", \"max\"),\n",
    "            F_min=(\"frequency\", \"min\"),\n",
    "            R_mean=(\"recency\", \"mean\"),\n",
    "            R_max=(\"recency\", \"max\"),\n",
    "            R_min=(\"recency\", \"min\"),\n",
    "        )\n",
    "        rfm_segment_grouped[\"size_pctg\"] = (\n",
    "            (rfm_segment_grouped[\"size\"] / rfm_segment.shape[0]) * 100\n",
    "        ).round(2)\n",
    "        rfm_segment_grouped[\"M_sum_pctg\"] = (\n",
    "            rfm_segment_grouped[\"M_sum\"] / rfm_segment_grouped[\"M_sum\"].sum()\n",
    "        )\n",
    "        rfm_segment_grouped[\"M_sum_pctg\"] = (\n",
    "            rfm_segment_grouped[\"M_sum_pctg\"] * 100\n",
    "        ).round(2)\n",
    "\n",
    "        rfm_segment_grouped[\"F_sum_pctg\"] = (\n",
    "            rfm_segment_grouped[\"F_sum\"] / rfm_segment_grouped[\"F_sum\"].sum()\n",
    "        )\n",
    "        rfm_segment_grouped[\"F_sum_pctg\"] = (\n",
    "            rfm_segment_grouped[\"F_sum_pctg\"] * 100\n",
    "        ).round(2)\n",
    "\n",
    "        return rfm_segment_grouped\n",
    "    \n",
    "    @staticmethod\n",
    "    def plot_segment(rfm_segment, color_palette=None, auto_pctg=True, **layouts):  \n",
    "        group_segment = TreeMapRFM.get_group_segment(rfm_segment).round(2)\n",
    "        \n",
    "        color_palette = (\n",
    "            px.colors.qualitative.Pastel if not color_palette else color_palette\n",
    "        )\n",
    "\n",
    "        rfm_coordinates = {\n",
    "            \"Champions\": [3, 5, 0.8, 1],\n",
    "            \"Loyal Customers\": [3, 5, 0.4, 0.8],\n",
    "            \"Cannot Lose Them\": [4, 5, 0, 0.4],\n",
    "            \"At-Risk\": [2, 4, 0, 0.4],\n",
    "            \"Hibernating\": [0, 2, 0, 0.4],\n",
    "            \"About To Sleep\": [0, 2, 0.4, 0.6],\n",
    "            \"Promising\": [0, 1, 0.6, 0.8],\n",
    "            \"New Customers\": [0, 1, 0.8, 1],\n",
    "            \"Potential Loyalists\": [1, 3, 0.6, 1],\n",
    "            \"Need Attention\": [2, 3, 0.4, 0.6],\n",
    "        }\n",
    "\n",
    "        df_shp = pd.DataFrame(rfm_coordinates).T\n",
    "        df_shp = df_shp.rename(columns={0: \"y0\", 1: \"y1\", 2: \"x0\", 3: \"x1\"})\n",
    "\n",
    "        df_shp[\"fillcolor\"] = color_palette[: df_shp.shape[0]]\n",
    "        df_shp.loc[:, [\"x0\", \"x1\"]] = df_shp.loc[:, [\"x0\", \"x1\"]] * 5\n",
    "        df_shp = df_shp.merge(group_segment, left_index=True, right_index=True)\n",
    "\n",
    "        fig = go.Figure()\n",
    "        for idx, val in df_shp.iterrows():\n",
    "            x0, x1 = val[\"x0\"], val[\"x1\"]\n",
    "            y0, y1 = val[\"y0\"], val[\"y1\"]\n",
    "\n",
    "            texts = f\"<b>{idx} | {val['size']} ({val['size_pctg']}%)</b><br>\"\n",
    "\n",
    "            text_m = \"<b><br>Monetary</b><br>\"\n",
    "            text_total_m = (\n",
    "                f\"<b>Sum</b>: ${val['M_sum']} ({val['M_sum_pctg']}%)<br>\"\n",
    "            )\n",
    "            text_max_m = f\"<b>Max</b>: ${val['M_max']}<br>\"\n",
    "            text_mean_m = f\"<b>Mean</b>: ${val['M_mean']}<br>\"\n",
    "            text_min_m = f\"<b>Min</b>: ${val['M_min']}<br>\"\n",
    "            text_m += text_total_m + text_max_m + text_mean_m + text_min_m\n",
    "\n",
    "            text_f = \"<br><b>Frequency</b><br>\"\n",
    "            text_total_f = (\n",
    "                f\"<b>Sum</b>: {val['F_sum']} ({val['F_sum_pctg']}%)<br>\"\n",
    "            )\n",
    "            text_max_f = f\"<b>Max</b>: {val['F_max']}<br>\"\n",
    "            text_mean_f = f\"<b>Mean</b>: {val['F_mean']}<br>\"\n",
    "            text_min_f = f\"<b>Min</b>: {val['F_min']}<br>\"\n",
    "            text_f += text_total_f + text_max_f + text_mean_f + text_min_f\n",
    "\n",
    "            text_r = \"<br><b>Recency</b><br>\"\n",
    "            text_max_r = f\"<b>Max</b>: {val['R_max']} days<br>\"\n",
    "            text_mean_r = f\"<b>Mean</b>: {val['R_mean']} days<br>\"\n",
    "            text_min_r = f\"<b>Min</b>: {val['R_min']} days<br>\"\n",
    "            text_r += text_max_r + text_mean_r + text_min_r\n",
    "\n",
    "            texts += text_m + text_f + text_r\n",
    "\n",
    "            fig.add_trace(\n",
    "                go.Scatter(\n",
    "                    x=[x0, x0, x1, x1, x0],\n",
    "                    y=[y0, y1, y1, y0, y0],\n",
    "                    fill=\"toself\",\n",
    "                    fillcolor=val[\"fillcolor\"],\n",
    "                    mode=\"lines\",\n",
    "                    #                 name=idx,\n",
    "                    name=\"\",\n",
    "                    showlegend=False,\n",
    "                    opacity=1,\n",
    "                    line_width=1,\n",
    "                    line_color=\"black\",\n",
    "                    text=texts,\n",
    "                    hoveron=\"fills\",\n",
    "                    hoverlabel_bgcolor=\"#192655\",\n",
    "                    hoverlabel_align=\"left\",\n",
    "                    hoverlabel_namelength=-1,\n",
    "                )\n",
    "            )\n",
    "\n",
    "        if auto_pctg is True:\n",
    "            df_shp[\"text\"] = df_shp.index.map(\n",
    "                lambda x: f\"<b>{x}<br>({df_shp.loc[x, 'size_pctg']}%)</b>\"\n",
    "            )\n",
    "\n",
    "        fig.add_trace(\n",
    "            go.Scatter(\n",
    "                x=df_shp.loc[:, [\"x0\", \"x1\"]].mean(axis=1),\n",
    "                y=df_shp.loc[:, [\"y0\", \"y1\"]].mean(axis=1),\n",
    "                text=df_shp[\"text\"],\n",
    "                mode=\"text\",\n",
    "                showlegend=False,\n",
    "                hoverinfo=\"skip\",\n",
    "            )\n",
    "        )\n",
    "\n",
    "        fig.update_layout(\n",
    "            xaxis=dict(range=[0, 5], dtick=1, showgrid=False),\n",
    "            yaxis=dict(range=[0, 5], showgrid=False),\n",
    "            xaxis_title=\"Recency\",\n",
    "            yaxis_title=\"Frequency\"\n",
    "            if \"rf_segment\" in group_segment.columns\n",
    "            else \"Frequency & Monetary\",\n",
    "            margin={\"l\": 0, \"r\": 20, \"b\": 0, \"t\": 0},\n",
    "            paper_bgcolor=\"rgba(0,0,0,0)\",\n",
    "            plot_bgcolor=\"rgba(0,0,0,0)\",\n",
    "        )\n",
    "\n",
    "        fig.update_layout(**layouts)\n",
    "        fig.update_traces(textfont_size=14, textfont_color=\"white\")\n",
    "\n",
    "        return fig"
   ]
  },
  {
   "cell_type": "code",
   "execution_count": null,
   "id": "aefd38c8",
   "metadata": {
    "ExecuteTime": {
     "end_time": "2024-05-08T13:28:37.257887Z",
     "start_time": "2024-05-08T13:28:37.231959Z"
    },
    "deletable": false,
    "editable": false
   },
   "outputs": [],
   "source": [
    "df_rfm = df_rfm.collect().to_pandas()"
   ]
  },
  {
   "cell_type": "code",
   "execution_count": null,
   "id": "9a8a50db",
   "metadata": {
    "ExecuteTime": {
     "end_time": "2024-05-08T13:28:38.574002Z",
     "start_time": "2024-05-08T13:28:38.205510Z"
    },
    "deletable": false,
    "editable": false
   },
   "outputs": [],
   "source": [
    "df_rfm_grouped = TreeMapRFM.get_group_segment(df_rfm).round(2)"
   ]
  },
  {
   "cell_type": "code",
   "execution_count": null,
   "id": "fed2593a",
   "metadata": {
    "ExecuteTime": {
     "end_time": "2024-05-08T13:28:39.345055Z",
     "start_time": "2024-05-08T13:28:39.191895Z"
    },
    "deletable": false,
    "editable": false
   },
   "outputs": [],
   "source": [
    "df_rfm_grouped.sort_values('M_sum')"
   ]
  },
  {
   "cell_type": "code",
   "execution_count": null,
   "id": "400637d6",
   "metadata": {
    "ExecuteTime": {
     "end_time": "2024-05-08T13:35:20.522854Z",
     "start_time": "2024-05-08T13:35:20.489099Z"
    },
    "deletable": false,
    "editable": false
   },
   "outputs": [],
   "source": [
    "TreeMapRFM.plot_segment(df_rfm)"
   ]
  },
  {
   "cell_type": "markdown",
   "id": "1e55885a",
   "metadata": {
    "ExecuteTime": {
     "end_time": "2024-05-07T07:49:17.413089Z",
     "start_time": "2024-05-07T07:49:17.402073Z"
    },
    "deletable": false,
    "editable": false,
    "run_control": {
     "frozen": true
    }
   },
   "source": [
    "#### Distributions"
   ]
  },
  {
   "cell_type": "markdown",
   "id": "84c211a5",
   "metadata": {
    "ExecuteTime": {
     "end_time": "2024-05-07T07:50:24.211802Z",
     "start_time": "2024-05-07T07:50:24.194217Z"
    },
    "deletable": false,
    "editable": false,
    "run_control": {
     "frozen": true
    }
   },
   "source": [
    "##### Clean the outlier"
   ]
  },
  {
   "cell_type": "code",
   "execution_count": null,
   "id": "4774ba13",
   "metadata": {
    "ExecuteTime": {
     "end_time": "2024-05-08T02:52:29.609685Z",
     "start_time": "2024-05-08T02:52:29.591734Z"
    },
    "deletable": false,
    "editable": false
   },
   "outputs": [],
   "source": [
    "def get_rid_outlier(df, col, drop=False):\n",
    "    df = df.copy()\n",
    "    \n",
    "    Q1 = df[col].quantile(0.25)\n",
    "    Q3 = df[col].quantile(0.75)\n",
    "    IQR = Q3-Q1\n",
    "    top_cap = Q3 + (IQR*1.5)\n",
    "    bottom_cap = Q1 - (IQR*1.5)\n",
    "    \n",
    "    if drop:\n",
    "        return df.loc[(df[col] >= bottom_cap) & (df[col] <= top_cap)]\n",
    "    else:\n",
    "        df.loc[df[col] < bottom_cap, col] = bottom_cap\n",
    "        df.loc[df[col] > top_cap, col] = top_cap       \n",
    "        \n",
    "        return df"
   ]
  },
  {
   "cell_type": "code",
   "execution_count": null,
   "id": "1bccd0e2",
   "metadata": {
    "ExecuteTime": {
     "end_time": "2024-05-08T02:52:33.731223Z",
     "start_time": "2024-05-08T02:52:33.310229Z"
    },
    "deletable": false,
    "editable": false
   },
   "outputs": [],
   "source": [
    "df_rfm_no_outlier = df_rfm.copy()\n",
    "df_rfm_no_outlier = get_rid_outlier(df_rfm_no_outlier, 'monetary')\n",
    "df_rfm_no_outlier = get_rid_outlier(df_rfm_no_outlier, 'recency')\n",
    "df_rfm_no_outlier = get_rid_outlier(df_rfm_no_outlier, 'frequency')"
   ]
  },
  {
   "cell_type": "markdown",
   "id": "a594a2ad",
   "metadata": {
    "ExecuteTime": {
     "end_time": "2024-05-07T07:50:07.069340Z",
     "start_time": "2024-05-07T07:50:07.055377Z"
    },
    "deletable": false,
    "editable": false,
    "run_control": {
     "frozen": true
    }
   },
   "source": [
    "##### Box Plot"
   ]
  },
  {
   "cell_type": "code",
   "execution_count": null,
   "id": "961b95c7",
   "metadata": {
    "ExecuteTime": {
     "end_time": "2024-05-08T02:52:35.389399Z",
     "start_time": "2024-05-08T02:52:35.367355Z"
    },
    "deletable": false,
    "editable": false
   },
   "outputs": [],
   "source": [
    "def box_plot(rfm_segment, col_value=\"monetary\", col_segment=\"segment\"):\n",
    "    df = rfm_segment.copy()\n",
    "    segments = df.groupby(col_segment)[col_value].mean().sort_values().index\n",
    "    colors = px.colors.sequential.Viridis[::-1][: len(segments)]\n",
    "    datas = [df[df[col_segment] == segment][col_value].values for segment in segments]\n",
    "\n",
    "    fig = go.Figure()\n",
    "    for segment, data, color in zip(segments, datas, colors):\n",
    "        fig.add_trace(go.Box(x=data, line_color=color, name=segment))\n",
    "\n",
    "    fig.update_traces(orientation=\"h\", boxpoints=False, boxmean=True, notched=True)\n",
    "    fig.update_layout(xaxis_range=(0, datas[0]), template='plotly_white')\n",
    "\n",
    "    return fig"
   ]
  },
  {
   "cell_type": "code",
   "execution_count": null,
   "id": "13392e4d",
   "metadata": {
    "ExecuteTime": {
     "end_time": "2024-05-08T02:52:36.987399Z",
     "start_time": "2024-05-08T02:52:36.936189Z"
    },
    "deletable": false,
    "editable": false
   },
   "outputs": [],
   "source": [
    "df_rfm_no_outlier['segment'].value_counts()"
   ]
  },
  {
   "cell_type": "code",
   "execution_count": null,
   "id": "ef461d8b",
   "metadata": {
    "ExecuteTime": {
     "end_time": "2024-05-08T02:54:10.577503Z",
     "start_time": "2024-05-08T02:54:10.523807Z"
    },
    "deletable": false,
    "editable": false
   },
   "outputs": [],
   "source": [
    "fig_box = box_plot(df_rfm_no_outlier, col_value='monetary')"
   ]
  },
  {
   "cell_type": "code",
   "execution_count": null,
   "id": "3b3c5c05",
   "metadata": {
    "ExecuteTime": {
     "end_time": "2024-05-08T02:54:13.091148Z",
     "start_time": "2024-05-08T02:54:13.047970Z"
    },
    "deletable": false,
    "editable": false
   },
   "outputs": [],
   "source": [
    "fig_box.show()"
   ]
  },
  {
   "cell_type": "markdown",
   "id": "9853ad80",
   "metadata": {
    "ExecuteTime": {
     "end_time": "2024-05-07T07:49:23.256006Z",
     "start_time": "2024-05-07T07:49:23.236291Z"
    },
    "deletable": false,
    "editable": false,
    "run_control": {
     "frozen": true
    }
   },
   "source": [
    "##### Violin Plot"
   ]
  },
  {
   "cell_type": "code",
   "execution_count": null,
   "id": "5373bcd0",
   "metadata": {
    "ExecuteTime": {
     "end_time": "2024-05-08T02:53:04.929596Z",
     "start_time": "2024-05-08T02:53:04.903668Z"
    },
    "code_folding": [],
    "deletable": false,
    "editable": false
   },
   "outputs": [],
   "source": [
    "def violin_plot(rfm_segment, col_value):\n",
    "    df = rfm_segment.copy()\n",
    "    segments = df.groupby(\"segment\")[col_value].mean().sort_values().index\n",
    "    datas = [df[df[\"segment\"] == segment][col_value].values for segment in segments]\n",
    "    colors = px.colors.sequential.Viridis[::-1][: len(segments)]\n",
    "\n",
    "    fig = go.Figure()\n",
    "    for segment, data, color in zip(segments, datas, colors):\n",
    "        fig.add_trace(go.Violin(x=data, line_color=color, name=segment))\n",
    "\n",
    "    fig.update_traces(\n",
    "        orientation=\"h\",\n",
    "        side=\"positive\",\n",
    "        width=1,\n",
    "        points=False,\n",
    "        meanline_visible=True,\n",
    "    )\n",
    "    fig.update_layout(template='plotly_white')\n",
    "    \n",
    "\n",
    "    return fig"
   ]
  },
  {
   "cell_type": "code",
   "execution_count": null,
   "id": "620356b5",
   "metadata": {
    "ExecuteTime": {
     "end_time": "2024-05-08T02:53:06.233159Z",
     "start_time": "2024-05-08T02:53:05.889139Z"
    },
    "deletable": false,
    "editable": false
   },
   "outputs": [],
   "source": [
    "fig_violin = violin_plot(df_rfm_no_outlier, 'recency')"
   ]
  },
  {
   "cell_type": "code",
   "execution_count": null,
   "id": "cee1deda",
   "metadata": {
    "ExecuteTime": {
     "end_time": "2024-05-08T02:53:08.951567Z",
     "start_time": "2024-05-08T02:53:08.927630Z"
    },
    "deletable": false,
    "editable": false
   },
   "outputs": [],
   "source": [
    "fig_violin"
   ]
  }
 ],
 "metadata": {
  "kernelspec": {
   "display_name": "Python 3 (ipykernel)",
   "language": "python",
   "name": "python3"
  },
  "language_info": {
   "codemirror_mode": {
    "name": "ipython",
    "version": 3
   },
   "file_extension": ".py",
   "mimetype": "text/x-python",
   "name": "python",
   "nbconvert_exporter": "python",
   "pygments_lexer": "ipython3",
   "version": "3.9.12"
  },
  "toc": {
   "base_numbering": 1,
   "nav_menu": {},
   "number_sections": true,
   "sideBar": true,
   "skip_h1_title": false,
   "title_cell": "Table of Contents",
   "title_sidebar": "Contents",
   "toc_cell": false,
   "toc_position": {},
   "toc_section_display": true,
   "toc_window_display": false
  },
  "varInspector": {
   "cols": {
    "lenName": 16,
    "lenType": 16,
    "lenVar": 40
   },
   "kernels_config": {
    "python": {
     "delete_cmd_postfix": "",
     "delete_cmd_prefix": "del ",
     "library": "var_list.py",
     "varRefreshCmd": "print(var_dic_list())"
    },
    "r": {
     "delete_cmd_postfix": ") ",
     "delete_cmd_prefix": "rm(",
     "library": "var_list.r",
     "varRefreshCmd": "cat(var_dic_list()) "
    }
   },
   "types_to_exclude": [
    "module",
    "function",
    "builtin_function_or_method",
    "instance",
    "_Feature"
   ],
   "window_display": false
  }
 },
 "nbformat": 4,
 "nbformat_minor": 5
}
