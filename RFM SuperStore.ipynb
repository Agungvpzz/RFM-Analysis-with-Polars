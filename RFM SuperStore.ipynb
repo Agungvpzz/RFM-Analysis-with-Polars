{
 "cells": [
  {
   "cell_type": "code",
   "execution_count": 1,
   "id": "08ee9923-72d7-44aa-87c6-073cdf35aef4",
   "metadata": {
    "deletable": false,
    "editable": false,
    "execution": {
     "iopub.execute_input": "2025-04-17T09:25:51.826943Z",
     "iopub.status.busy": "2025-04-17T09:25:51.826181Z",
     "iopub.status.idle": "2025-04-17T09:25:53.539747Z",
     "shell.execute_reply": "2025-04-17T09:25:53.538802Z",
     "shell.execute_reply.started": "2025-04-17T09:25:51.826889Z"
    },
    "frozen": false
   },
   "outputs": [],
   "source": [
    "import pandas as pd"
   ]
  },
  {
   "cell_type": "code",
   "execution_count": 2,
   "id": "bfc1c285-818c-4d85-9295-a4b634d8ca52",
   "metadata": {
    "deletable": false,
    "editable": false,
    "execution": {
     "iopub.execute_input": "2025-04-17T09:25:53.541245Z",
     "iopub.status.busy": "2025-04-17T09:25:53.540528Z",
     "iopub.status.idle": "2025-04-17T09:25:54.631102Z",
     "shell.execute_reply": "2025-04-17T09:25:54.628459Z",
     "shell.execute_reply.started": "2025-04-17T09:25:53.541203Z"
    },
    "frozen": false
   },
   "outputs": [],
   "source": [
    "from rfm.rfm import RFM\n",
    "from plots.Violin import violin_plot\n",
    "from plots.Boxplot import box_plot"
   ]
  },
  {
   "cell_type": "code",
   "execution_count": 3,
   "id": "38c8a79d-dc6e-422d-a508-b35b3b452bf1",
   "metadata": {
    "deletable": false,
    "editable": false,
    "execution": {
     "iopub.execute_input": "2025-04-17T09:25:54.648121Z",
     "iopub.status.busy": "2025-04-17T09:25:54.647076Z",
     "iopub.status.idle": "2025-04-17T09:25:54.657936Z",
     "shell.execute_reply": "2025-04-17T09:25:54.656394Z",
     "shell.execute_reply.started": "2025-04-17T09:25:54.648039Z"
    },
    "frozen": false
   },
   "outputs": [],
   "source": [
    "COL_CUSTOMER_ID = \"Customer ID\"\n",
    "COL_ORDER_DATE = \"Order Date\"\n",
    "COL_ORDER_ID = \"Order ID\"\n",
    "COL_VALUE = \"Sales\""
   ]
  },
  {
   "cell_type": "code",
   "execution_count": 4,
   "id": "b611bb97-1dcc-47a4-b0e2-493a8b12d503",
   "metadata": {
    "deletable": false,
    "editable": false,
    "execution": {
     "iopub.execute_input": "2025-04-17T09:25:54.662042Z",
     "iopub.status.busy": "2025-04-17T09:25:54.661200Z",
     "iopub.status.idle": "2025-04-17T09:25:54.976483Z",
     "shell.execute_reply": "2025-04-17T09:25:54.974797Z",
     "shell.execute_reply.started": "2025-04-17T09:25:54.661993Z"
    },
    "frozen": false
   },
   "outputs": [],
   "source": [
    "# https://www.kaggle.com/datasets/rohitsahoo/sales-forecasting\n",
    "super_store_path = \"Superstore Sales.csv\"\n",
    "df = pd.read_csv(super_store_path)\n",
    "\n",
    "for col_date in [\"Order Date\", \"Ship Date\"]:\n",
    "    df[col_date] = pd.to_datetime(df[col_date], format=\"%d/%m/%Y\")"
   ]
  },
  {
   "cell_type": "code",
   "execution_count": null,
   "id": "56f1476e-44f6-43d4-93b6-9175ec62ef0f",
   "metadata": {
    "deletable": false,
    "editable": false,
    "frozen": false
   },
   "outputs": [],
   "source": [
    "df_rfm = RFM.get_rfm_features(df, COL_CUSTOMER_ID, COL_ORDER_DATE, COL_ORDER_ID, COL_VALUE)\n",
    "df_rfm_segment = RFM.get_rfm_segment(df_rfm, use_monetary=True)\n",
    "df_rfm_segment_summary = RFM.get_rfm_segment_summary(df_rfm_segment)\n",
    "df_rfm_segment_summary = df_rfm_segment_summary.map(lambda x: round(x, 2))"
   ]
  },
  {
   "cell_type": "code",
   "execution_count": null,
   "id": "e6e11fd7-b671-420c-a689-d8d372ab85fc",
   "metadata": {
    "deletable": false,
    "editable": false,
    "frozen": false
   },
   "outputs": [],
   "source": [
    "RFM.plot_rfm_segment_map(df_rfm_segment_summary)"
   ]
  },
  {
   "cell_type": "code",
   "execution_count": null,
   "id": "313f316f-d028-43b6-8d45-f92fcae27e01",
   "metadata": {
    "deletable": false,
    "editable": false,
    "frozen": false
   },
   "outputs": [],
   "source": [
    "violin_plot(df_rfm_segment, 'recency')"
   ]
  },
  {
   "cell_type": "code",
   "execution_count": null,
   "id": "93381b94-8495-4627-8df6-6dda8e9645c5",
   "metadata": {
    "deletable": false,
    "editable": false,
    "frozen": false
   },
   "outputs": [],
   "source": [
    "box_plot(df_rfm_segment, 'recency')"
   ]
  }
 ],
 "metadata": {
  "kernelspec": {
   "display_name": "Python 3 (ipykernel)",
   "language": "python",
   "name": "python3"
  },
  "language_info": {
   "codemirror_mode": {
    "name": "ipython",
    "version": 3
   },
   "file_extension": ".py",
   "mimetype": "text/x-python",
   "name": "python",
   "nbconvert_exporter": "python",
   "pygments_lexer": "ipython3",
   "version": "3.13.0"
  }
 },
 "nbformat": 4,
 "nbformat_minor": 5
}
